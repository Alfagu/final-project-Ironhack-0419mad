{
 "cells": [
  {
   "cell_type": "code",
   "execution_count": 27,
   "metadata": {},
   "outputs": [],
   "source": [
    "#!/usr/bin/env python\n",
    "# -*- coding: utf-8 -*-\n",
    "\n",
    "from tkinter import *\n",
    "from tkinter import ttk\n",
    "\n",
    "# Crea una clase Python para definir el interfaz de usuario de\n",
    "# la aplicación. Cuando se cree un objeto del tipo 'Aplicacion'\n",
    "# se ejecutará automáticamente el método __init__() qué \n",
    "# construye y muestra la ventana con todos sus widgets: \n",
    "\n",
    "class Aplicacion():\n",
    "    def __init__(self):\n",
    "        raiz = Tk()\n",
    "        raiz.geometry('300x200')\n",
    "        raiz.configure(bg = 'grey')\n",
    "        raiz.title('Aplicación')\n",
    "        ttk.Button(raiz, text='Salir', \n",
    "                   command=raiz.destroy).pack(side=BOTTOM)\n",
    "        raiz.mainloop()\n",
    "\n",
    "# Define la función main() que es en realidad la que indica \n",
    "# el comienzo del programa. Dentro de ella se crea el objeto \n",
    "# aplicación 'mi_app' basado en la clase 'Aplicación':\n",
    "\n",
    "def main():\n",
    "    mi_app = Aplicacion()\n",
    "    return 0\n",
    "\n",
    "# Mediante el atributo __name__ tenemos acceso al nombre de un\n",
    "# un módulo. Python utiliza este atributo cuando se ejecuta\n",
    "# un programa para conocer si el módulo es ejecutado de forma\n",
    "# independiente (en ese caso __name__ = '__main__') o es \n",
    "# importado:\n",
    "\n",
    "if __name__ == '__main__':\n",
    "    main()"
   ]
  },
  {
   "cell_type": "code",
   "execution_count": 80,
   "metadata": {},
   "outputs": [
    {
     "name": "stdout",
     "output_type": "stream",
     "text": [
      "Width 200 Height 200\n"
     ]
    }
   ],
   "source": [
    "from tkinter import *\n",
    "from tkinter.ttk import *\n",
    "from tkinter import ttk\n",
    "import time\n",
    "\n",
    "root = Tk()\n",
    "\n",
    "# Gets the requested values of the height and widht.\n",
    "rootWidth = root.winfo_reqwidth()\n",
    "rootHeight = root.winfo_reqheight()\n",
    "print(\"Width\",rootWidth,\"Height\",rootHeight)\n",
    " \n",
    "# Gets both half the screen width/height and window width/height\n",
    "positionRight = int(root.winfo_screenwidth()/2 - rootWidth/2)\n",
    "positionDown = int(root.winfo_screenheight()/2 - rootHeight/2)\n",
    " \n",
    "# Positions the window in the center of the page.\n",
    "root.title(\"FilmFounder\")\n",
    "root.geometry(\"+{}+{}\".format(positionRight, positionDown))\n",
    "\n",
    "# Button and action of the progressBar.\n",
    "def clicked():\n",
    "    lbl.configure(text=\"Searching\")\n",
    "    progressBar['maximum'] = 100\n",
    "    for i in range(101):\n",
    "        time.sleep(0.02)\n",
    "        progressBar[\"value\"] = i\n",
    "        progressBar.update()\n",
    "        progressBar[\"value\"] = 0  \n",
    "        \n",
    "# cofigurations of the differents features.        \n",
    "lbl = Label(root, text=\"Insert Movie or Date\")\n",
    "lbl.grid(column=0, row=1)\n",
    "    \n",
    "txt = Entry(root, width=10)\n",
    "txt.grid(column=0, row=2)   \n",
    "    \n",
    "btn = Button(root, text=\"Click Me\", command=clicked)\n",
    "btn.grid(column=0, row=3)\n",
    "\n",
    "progressBar = ttk.Progressbar(root, orient=\"horizontal\", length=286,mode=\"determinate\")\n",
    "progressBar.grid(column = 0, row = 4, pady=10)\n",
    "\n",
    "root.mainloop()"
   ]
  },
  {
   "cell_type": "code",
   "execution_count": null,
   "metadata": {},
   "outputs": [],
   "source": []
  },
  {
   "cell_type": "code",
   "execution_count": 41,
   "metadata": {},
   "outputs": [],
   "source": []
  }
 ],
 "metadata": {
  "kernelspec": {
   "display_name": "Python 3",
   "language": "python",
   "name": "python3"
  },
  "language_info": {
   "codemirror_mode": {
    "name": "ipython",
    "version": 3
   },
   "file_extension": ".py",
   "mimetype": "text/x-python",
   "name": "python",
   "nbconvert_exporter": "python",
   "pygments_lexer": "ipython3",
   "version": "3.7.2"
  }
 },
 "nbformat": 4,
 "nbformat_minor": 2
}
