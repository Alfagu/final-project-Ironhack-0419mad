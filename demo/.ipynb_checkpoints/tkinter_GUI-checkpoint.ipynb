{
 "cells": [
  {
   "cell_type": "code",
   "execution_count": null,
   "metadata": {},
   "outputs": [
    {
     "name": "stdout",
     "output_type": "stream",
     "text": [
      "Width 200 Height 200\n"
     ]
    }
   ],
   "source": [
    "import tkinter as tk\n",
    "from tkinter import *\n",
    "from tkinter.ttk import *\n",
    "from tkinter import ttk\n",
    "import time\n",
    "\n",
    "root = Tk()\n",
    "\n",
    "#### CENTER THE WINDOW\n",
    "# Gets the requested values of the height and widht.\n",
    "rootWidth = root.winfo_reqwidth()\n",
    "rootHeight = root.winfo_reqheight()\n",
    "print(\"Width\",rootWidth,\"Height\",rootHeight)\n",
    " \n",
    "# Gets both half the screen width/height and window width/height\n",
    "positionRight = int(root.winfo_screenwidth()/2 - rootWidth/2)\n",
    "positionDown = int(root.winfo_screenheight()/2 - rootHeight/2)\n",
    " \n",
    "# Positions the window in the center of the page.\n",
    "root.title(\"FilmFounder\")\n",
    "root.geometry(\"+{}+{}\".format(positionRight, positionDown))\n",
    "\n",
    "#### FUNCTIONS FOR BUTTONS\n",
    "# We are going to make 2 function to the same button.\n",
    "def combine_funcs(*funcs):\n",
    "    def combined_func(*args, **kwargs):\n",
    "        for f in funcs:\n",
    "            f(*args, **kwargs)\n",
    "    return combined_func\n",
    "\n",
    "# Button and action of the progressBar.\n",
    "def clicked():\n",
    "    lbl.configure(text=\"Searching\")\n",
    "    progressBar['maximum'] = 100\n",
    "    for i in range(101):\n",
    "        time.sleep(0.02)\n",
    "        progressBar[\"value\"] = i\n",
    "        progressBar.update()\n",
    "        progressBar[\"value\"] = 0  \n",
    "        \n",
    "#### Function for entry fields\n",
    "def save_entry_fields():\n",
    "    var_1 = e1.get()\n",
    "    var_2 = e2.get()\n",
    "    #print(\"Genre: %s\\nDate: %s\" % (e1.get(), e2.get()))\n",
    "\n",
    "        \n",
    "# cofigurations of the differents features.        \n",
    "lbl = Label(root, text=\"Insert Genre/Movie or Date\")\n",
    "lbl.grid(row=0, column=2)\n",
    "\n",
    "tk.Label(root, text=\"Genre\").grid(row=1, column=1)\n",
    "tk.Label(root, text=\"Date\").grid(row=2, column=1)\n",
    "\n",
    "e1 = tk.Entry()\n",
    "e2 = tk.Entry()\n",
    "\n",
    "e1.grid(row=1, \n",
    "        column=2)\n",
    "e2.grid(row=2, \n",
    "        column=2)\n",
    "\n",
    "tk.Button(root, text='Search', command = combine_funcs(clicked, save_entry_fields)).grid(row=3, \n",
    "                                                               column=2, \n",
    "                                                               sticky=tk.W, \n",
    "                                                               pady=4)\n",
    "\n",
    "progressBar = ttk.Progressbar(root, orient='horizontal', length=200, mode=\"determinate\")\n",
    "progressBar.grid(column=2, row = 4, pady=10)\n",
    "\n",
    "root.mainloop()\n"
   ]
  },
  {
   "cell_type": "code",
   "execution_count": null,
   "metadata": {},
   "outputs": [],
   "source": []
  }
 ],
 "metadata": {
  "kernelspec": {
   "display_name": "Python 3",
   "language": "python",
   "name": "python3"
  },
  "language_info": {
   "codemirror_mode": {
    "name": "ipython",
    "version": 3
   },
   "file_extension": ".py",
   "mimetype": "text/x-python",
   "name": "python",
   "nbconvert_exporter": "python",
   "pygments_lexer": "ipython3",
   "version": "3.7.2"
  }
 },
 "nbformat": 4,
 "nbformat_minor": 2
}
