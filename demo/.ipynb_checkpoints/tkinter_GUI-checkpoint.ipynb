{
 "cells": [
  {
   "cell_type": "code",
   "execution_count": 21,
   "metadata": {},
   "outputs": [
    {
     "name": "stdout",
     "output_type": "stream",
     "text": [
      "Width 200 Height 200\n",
      "Genre: kfsdoihfsd\n",
      "Date: \n",
      "<class 'str'>\n"
     ]
    }
   ],
   "source": [
    "import tkinter as tk\n",
    "from tkinter import *\n",
    "from tkinter.ttk import *\n",
    "from tkinter import ttk\n",
    "import time\n",
    "\n",
    "root = Tk()\n",
    "\n",
    "#### CENTER THE WINDOW\n",
    "# Gets the requested values of the height and widht.\n",
    "rootWidth = root.winfo_reqwidth()\n",
    "rootHeight = root.winfo_reqheight()\n",
    "print(\"Width\",rootWidth,\"Height\",rootHeight)\n",
    " \n",
    "# Gets both half the screen width/height and window width/height\n",
    "positionRight = int(root.winfo_screenwidth()/2 - rootWidth/2)\n",
    "positionDown = int(root.winfo_screenheight()/2 - rootHeight/2)\n",
    " \n",
    "# Positions the window in the center of the page.\n",
    "root.title(\"FilmFounder\")\n",
    "root.geometry(\"+{}+{}\".format(positionRight, positionDown))\n",
    "\n",
    "#### FUNCTIONS FOR BUTTONS\n",
    "# We are going to make 2 function to the same button.\n",
    "def combine_funcs(*funcs):\n",
    "    def combined_func(*args, **kwargs):\n",
    "        for f in funcs:\n",
    "            f(*args, **kwargs)\n",
    "    return combined_func\n",
    "\n",
    "# Button and action of the progressBar.\n",
    "def clicked():\n",
    "    lbl.configure(text=\"Searching\")\n",
    "    progressBar['maximum'] = 100\n",
    "    for i in range(101):\n",
    "        time.sleep(0.02)\n",
    "        progressBar[\"value\"] = i\n",
    "        progressBar.update()\n",
    "        progressBar[\"value\"] = 0  \n",
    "        \n",
    "#### Function for entry fields\n",
    "def save_entry_fields():\n",
    "    var_1 = e1.get()\n",
    "    var_2 = e2.get()\n",
    "    print(\"Genre: %s\\nDate: %s\" % (e1.get(), e2.get()))\n",
    "\n",
    "        \n",
    "# cofigurations of the differents features.        \n",
    "lbl = Label(root, text=\"Insert Genre/Movie or Date\")\n",
    "lbl.grid(row=0, column=2)\n",
    "\n",
    "tk.Label(root, text=\"Genre\").grid(row=1, column=1)\n",
    "tk.Label(root, text=\"Date\").grid(row=2, column=1)\n",
    "\n",
    "e1 = tk.Entry()\n",
    "e2 = tk.Entry()\n",
    "\n",
    "e1.grid(row=1, \n",
    "        column=2)\n",
    "e2.grid(row=2, \n",
    "        column=2)\n",
    "\n",
    "tk.Button(root, text='Search', command = combine_funcs(clicked, save_entry_fields)).grid(row=3, \n",
    "                                                               column=2, \n",
    "                                                               sticky=tk.W, \n",
    "                                                               pady=4)\n",
    "\n",
    "progressBar = ttk.Progressbar(root, orient='horizontal', length=200, mode=\"determinate\")\n",
    "progressBar.grid(column=2, row = 4, pady=10)\n",
    "\n",
    "root.mainloop()"
   ]
  },
  {
   "cell_type": "code",
   "execution_count": 22,
   "metadata": {},
   "outputs": [
    {
     "ename": "NameError",
     "evalue": "name 'var_1' is not defined",
     "output_type": "error",
     "traceback": [
      "\u001b[0;31m---------------------------------------------------------------------------\u001b[0m",
      "\u001b[0;31mNameError\u001b[0m                                 Traceback (most recent call last)",
      "\u001b[0;32m<ipython-input-22-7eda7254bd01>\u001b[0m in \u001b[0;36m<module>\u001b[0;34m\u001b[0m\n\u001b[0;32m----> 1\u001b[0;31m \u001b[0mprint\u001b[0m\u001b[0;34m(\u001b[0m\u001b[0mvar_1\u001b[0m\u001b[0;34m,\u001b[0m \u001b[0mvar_2\u001b[0m\u001b[0;34m)\u001b[0m\u001b[0;34m\u001b[0m\u001b[0;34m\u001b[0m\u001b[0m\n\u001b[0m",
      "\u001b[0;31mNameError\u001b[0m: name 'var_1' is not defined"
     ]
    }
   ],
   "source": []
  },
  {
   "cell_type": "code",
   "execution_count": null,
   "metadata": {},
   "outputs": [],
   "source": [
    "#txt = Entry(root, width=10)\n",
    "#txt.grid(column=0, row=2)   \n",
    "    \n",
    "#btn = Button(root, text=\"Click Me\", command=clicked)\n",
    "#btn.grid(column=0, row=3)"
   ]
  },
  {
   "cell_type": "code",
   "execution_count": 2,
   "metadata": {},
   "outputs": [],
   "source": [
    "import tkinter as tk\n",
    "\n",
    "root = tk.Tk()\n",
    "\n",
    "margin = 0.23\n",
    "projectedSales = tk.IntVar()\n",
    "profit = tk.IntVar()\n",
    "\n",
    "entry = tk.Entry(root, textvariable=projectedSales)\n",
    "\n",
    "entry.pack()\n",
    "\n",
    "def profit_calculator():\n",
    "    profit.set(margin * projectedSales.get())\n",
    "\n",
    "labelProSales = tk.Label(root, textvariable=projectedSales)\n",
    "labelProSales.pack()\n",
    "\n",
    "labelProfit = tk.Label(root, textvariable=profit)\n",
    "labelProfit.pack()\n",
    "\n",
    "button_calc = tk.Button(root, text=\"Calculate\", command=profit_calculator)\n",
    "button_calc.pack()\n",
    "\n",
    "root.mainloop()"
   ]
  },
  {
   "cell_type": "code",
   "execution_count": 16,
   "metadata": {},
   "outputs": [
    {
     "ename": "ModuleNotFoundError",
     "evalue": "No module named 'Recom_System_Copy1'",
     "output_type": "error",
     "traceback": [
      "\u001b[0;31m---------------------------------------------------------------------------\u001b[0m",
      "\u001b[0;31mModuleNotFoundError\u001b[0m                       Traceback (most recent call last)",
      "\u001b[0;32m<ipython-input-16-0354bda81851>\u001b[0m in \u001b[0;36m<module>\u001b[0;34m\u001b[0m\n\u001b[0;32m----> 1\u001b[0;31m \u001b[0;32mfrom\u001b[0m \u001b[0mRecom_System_Copy1\u001b[0m\u001b[0;34m.\u001b[0m\u001b[0mipynb\u001b[0m \u001b[0;32mimport\u001b[0m \u001b[0;34m*\u001b[0m\u001b[0;34m\u001b[0m\u001b[0;34m\u001b[0m\u001b[0m\n\u001b[0m\u001b[1;32m      2\u001b[0m \u001b[0;34m\u001b[0m\u001b[0m\n\u001b[1;32m      3\u001b[0m \u001b[0;31m# Function to take the inputs and take the data from Recom System:\u001b[0m\u001b[0;34m\u001b[0m\u001b[0;34m\u001b[0m\u001b[0;34m\u001b[0m\u001b[0m\n\u001b[1;32m      4\u001b[0m \u001b[0;32mclass\u001b[0m \u001b[0mget_recommendations\u001b[0m\u001b[0;34m(\u001b[0m\u001b[0;34m)\u001b[0m\u001b[0;34m:\u001b[0m\u001b[0;34m\u001b[0m\u001b[0;34m\u001b[0m\u001b[0m\n\u001b[1;32m      5\u001b[0m     \u001b[0;32mdef\u001b[0m \u001b[0mconsult_sysrecom\u001b[0m\u001b[0;34m(\u001b[0m\u001b[0;34m)\u001b[0m\u001b[0;34m:\u001b[0m\u001b[0;34m\u001b[0m\u001b[0;34m\u001b[0m\u001b[0m\n",
      "\u001b[0;31mModuleNotFoundError\u001b[0m: No module named 'Recom_System_Copy1'"
     ]
    }
   ],
   "source": [
    "from Recom_System_Copy1.ipynb import *\n",
    "\n",
    "# Function to take the inputs and take the data from Recom System:\n",
    "class get_recommendations():\n",
    "    def consult_sysrecom():\n",
    "        show_entry_fields.set()"
   ]
  },
  {
   "cell_type": "code",
   "execution_count": null,
   "metadata": {},
   "outputs": [],
   "source": []
  }
 ],
 "metadata": {
  "kernelspec": {
   "display_name": "Python 3",
   "language": "python",
   "name": "python3"
  },
  "language_info": {
   "codemirror_mode": {
    "name": "ipython",
    "version": 3
   },
   "file_extension": ".py",
   "mimetype": "text/x-python",
   "name": "python",
   "nbconvert_exporter": "python",
   "pygments_lexer": "ipython3",
   "version": "3.7.2"
  }
 },
 "nbformat": 4,
 "nbformat_minor": 2
}
